{
 "cells": [
  {
   "cell_type": "code",
   "execution_count": null,
   "id": "bad6206c",
   "metadata": {},
   "outputs": [],
   "source": []
  },
  {
   "cell_type": "code",
   "execution_count": null,
   "id": "828aa15b",
   "metadata": {},
   "outputs": [],
   "source": []
  },
  {
   "cell_type": "code",
   "execution_count": 1,
   "id": "3e6fce93",
   "metadata": {},
   "outputs": [],
   "source": [
    "import selenium\n",
    "import pandas as pd\n",
    "from selenium import webdriver\n",
    "import warnings\n",
    "warnings.filterwarnings('ignore')\n",
    "from selenium.common.exceptions import StaleElementReferenceException,NoSuchElementException\n",
    "from selenium.webdriver.common.by import By\n",
    "import time"
   ]
  },
  {
   "cell_type": "code",
   "execution_count": 2,
   "id": "39c181f9",
   "metadata": {},
   "outputs": [],
   "source": [
    "driver=webdriver.Chrome(r\"chromedriver.exe\")"
   ]
  },
  {
   "cell_type": "code",
   "execution_count": 3,
   "id": "036d621a",
   "metadata": {},
   "outputs": [],
   "source": [
    "driver.get(\"https://www.naukri.com/\")"
   ]
  },
  {
   "cell_type": "code",
   "execution_count": 4,
   "id": "10b95357",
   "metadata": {},
   "outputs": [],
   "source": [
    "designation=driver.find_element(By.CLASS_NAME,\"suggestor-input \")\n",
    "designation.send_keys('Data Analyst')"
   ]
  },
  {
   "cell_type": "code",
   "execution_count": 5,
   "id": "01097f45",
   "metadata": {},
   "outputs": [],
   "source": [
    "location=driver.find_element(By.XPATH,\"/html/body/div[1]/div[6]/div/div/div[5]/div/div/div/input\")\n",
    "location.send_keys('Bangalore')"
   ]
  },
  {
   "cell_type": "code",
   "execution_count": 6,
   "id": "e9d9fc95",
   "metadata": {},
   "outputs": [],
   "source": [
    "search=driver.find_element(By.CLASS_NAME,\"qsbSubmit\")\n",
    "search.click()"
   ]
  },
  {
   "cell_type": "code",
   "execution_count": 7,
   "id": "2ea3e6b8",
   "metadata": {},
   "outputs": [],
   "source": [
    "job_title=[]\n",
    "job_location=[]\n",
    "company_name=[]\n",
    "experience_required=[]"
   ]
  },
  {
   "cell_type": "code",
   "execution_count": 8,
   "id": "60e1809c",
   "metadata": {},
   "outputs": [
    {
     "name": "stdout",
     "output_type": "stream",
     "text": [
      "Data Analyst/Senior Analyst - R/SQL/Python\n",
      "Data Analyst\n",
      "data analyst / data analytics - US MNC (analytics)\n",
      "Business Data Analyst (Sr Exe / Asst Manager)\n",
      "Junior Data Analyst/ Scientist- Fresher Position\n",
      "Staff Data Analyst\n",
      "Reference Data Analyst\n",
      "Sr Data Analyst\n",
      "Job Opportunity with Leading MNC - Senior Data Analyst\n",
      "Manager/Senior Manager - Data Analyst\n"
     ]
    }
   ],
   "source": [
    "title_tags=driver.find_elements(By.XPATH,'//a[@class=\"title ellipsis\"]')\n",
    "for i in title_tags[0:10]:\n",
    "    job_title.append(i.text)\n",
    "for i in job_title:\n",
    "    print(i)\n"
   ]
  },
  {
   "cell_type": "code",
   "execution_count": 9,
   "id": "a07143cb",
   "metadata": {},
   "outputs": [
    {
     "name": "stdout",
     "output_type": "stream",
     "text": [
      "Temp. WFH - Bangalore/Bengaluru, Kolkata, Mumbai, Hyderabad/Secunderabad, Pune, Chennai, Ahmedabad, Delhi / NCR\n",
      "Bangalore/Bengaluru\n",
      "Temp. WFH - Bangalore/Bengaluru, Gurgaon/Gurugram\n",
      "Bangalore/Bengaluru\n",
      "Hybrid - Bangalore/Bengaluru, New Delhi, Mumbai (All Areas)\n",
      "Bangalore/Bengaluru\n",
      "Bangalore/Bengaluru\n",
      "Hybrid - Bangalore/Bengaluru\n",
      "Bangalore/Bengaluru\n",
      "Bangalore/Bengaluru, Mumbai, Hyderabad/Secunderabad, Pune, Gurgaon/Gurugram, Ahmedabad, Jaipur, Delhi / NCR\n"
     ]
    }
   ],
   "source": [
    "location_tags=driver.find_elements(By.XPATH,'//span[@class=\"ellipsis fleft locWdth\"]')\n",
    "for i in location_tags[0:10]:\n",
    "    job_location.append(i.text)\n",
    "for i in job_location:\n",
    "    print(i)"
   ]
  },
  {
   "cell_type": "code",
   "execution_count": 10,
   "id": "d32941e7",
   "metadata": {},
   "outputs": [
    {
     "name": "stdout",
     "output_type": "stream",
     "text": [
      "The Nikharv Consultancy\n",
      "Target\n",
      "Aspyra Hr Services\n",
      "Talentleads\n",
      "Sejal Consulting Hub\n",
      "Walmart\n",
      "Deutsche Bank\n",
      "Amolitalents\n",
      "Enrich And Enlight Business Consulting\n",
      "Huquo Consulting Pvt. Ltd\n"
     ]
    }
   ],
   "source": [
    "company_tags=driver.find_elements(By.XPATH,'//a[@class=\"subTitle ellipsis fleft\"]')\n",
    "for i in company_tags[0:10]:\n",
    "    company_name.append(i.text)\n",
    "for i in company_name:\n",
    "    print(i)"
   ]
  },
  {
   "cell_type": "code",
   "execution_count": 11,
   "id": "397e8aaf",
   "metadata": {},
   "outputs": [
    {
     "name": "stdout",
     "output_type": "stream",
     "text": [
      "3-6 Yrs\n",
      "2-4 Yrs\n",
      "3-8 Yrs\n",
      "3-5 Yrs\n",
      "0-5 Yrs\n",
      "10-14 Yrs\n",
      "6-8 Yrs\n",
      "6-9 Yrs\n",
      "5-7 Yrs\n",
      "2-7 Yrs\n"
     ]
    }
   ],
   "source": [
    "experience_tags=driver.find_elements(By.XPATH,'//span[@class=\"ellipsis fleft expwdth\"]')\n",
    "for i in experience_tags[0:10]:\n",
    "    experience_required.append(i.text)\n",
    "for i in experience_required:\n",
    "    print(i)"
   ]
  },
  {
   "cell_type": "code",
   "execution_count": 12,
   "id": "c1086252",
   "metadata": {},
   "outputs": [
    {
     "name": "stdout",
     "output_type": "stream",
     "text": [
      "10 10 10 10\n"
     ]
    }
   ],
   "source": [
    "print(len(job_title),len(job_location),len(company_name),len(experience_required))"
   ]
  },
  {
   "cell_type": "code",
   "execution_count": 13,
   "id": "229dc195",
   "metadata": {},
   "outputs": [
    {
     "data": {
      "text/html": [
       "<div>\n",
       "<style scoped>\n",
       "    .dataframe tbody tr th:only-of-type {\n",
       "        vertical-align: middle;\n",
       "    }\n",
       "\n",
       "    .dataframe tbody tr th {\n",
       "        vertical-align: top;\n",
       "    }\n",
       "\n",
       "    .dataframe thead th {\n",
       "        text-align: right;\n",
       "    }\n",
       "</style>\n",
       "<table border=\"1\" class=\"dataframe\">\n",
       "  <thead>\n",
       "    <tr style=\"text-align: right;\">\n",
       "      <th></th>\n",
       "      <th>Title</th>\n",
       "      <th>Location</th>\n",
       "      <th>Company Name</th>\n",
       "      <th>Experience</th>\n",
       "    </tr>\n",
       "  </thead>\n",
       "  <tbody>\n",
       "    <tr>\n",
       "      <th>0</th>\n",
       "      <td>Data Analyst/Senior Analyst - R/SQL/Python</td>\n",
       "      <td>Temp. WFH - Bangalore/Bengaluru, Kolkata, Mumb...</td>\n",
       "      <td>The Nikharv Consultancy</td>\n",
       "      <td>3-6 Yrs</td>\n",
       "    </tr>\n",
       "    <tr>\n",
       "      <th>1</th>\n",
       "      <td>Data Analyst</td>\n",
       "      <td>Bangalore/Bengaluru</td>\n",
       "      <td>Target</td>\n",
       "      <td>2-4 Yrs</td>\n",
       "    </tr>\n",
       "    <tr>\n",
       "      <th>2</th>\n",
       "      <td>data analyst / data analytics - US MNC (analyt...</td>\n",
       "      <td>Temp. WFH - Bangalore/Bengaluru, Gurgaon/Gurugram</td>\n",
       "      <td>Aspyra Hr Services</td>\n",
       "      <td>3-8 Yrs</td>\n",
       "    </tr>\n",
       "    <tr>\n",
       "      <th>3</th>\n",
       "      <td>Business Data Analyst (Sr Exe / Asst Manager)</td>\n",
       "      <td>Bangalore/Bengaluru</td>\n",
       "      <td>Talentleads</td>\n",
       "      <td>3-5 Yrs</td>\n",
       "    </tr>\n",
       "    <tr>\n",
       "      <th>4</th>\n",
       "      <td>Junior Data Analyst/ Scientist- Fresher Position</td>\n",
       "      <td>Hybrid - Bangalore/Bengaluru, New Delhi, Mumba...</td>\n",
       "      <td>Sejal Consulting Hub</td>\n",
       "      <td>0-5 Yrs</td>\n",
       "    </tr>\n",
       "    <tr>\n",
       "      <th>5</th>\n",
       "      <td>Staff Data Analyst</td>\n",
       "      <td>Bangalore/Bengaluru</td>\n",
       "      <td>Walmart</td>\n",
       "      <td>10-14 Yrs</td>\n",
       "    </tr>\n",
       "    <tr>\n",
       "      <th>6</th>\n",
       "      <td>Reference Data Analyst</td>\n",
       "      <td>Bangalore/Bengaluru</td>\n",
       "      <td>Deutsche Bank</td>\n",
       "      <td>6-8 Yrs</td>\n",
       "    </tr>\n",
       "    <tr>\n",
       "      <th>7</th>\n",
       "      <td>Sr Data Analyst</td>\n",
       "      <td>Hybrid - Bangalore/Bengaluru</td>\n",
       "      <td>Amolitalents</td>\n",
       "      <td>6-9 Yrs</td>\n",
       "    </tr>\n",
       "    <tr>\n",
       "      <th>8</th>\n",
       "      <td>Job Opportunity with Leading MNC - Senior Data...</td>\n",
       "      <td>Bangalore/Bengaluru</td>\n",
       "      <td>Enrich And Enlight Business Consulting</td>\n",
       "      <td>5-7 Yrs</td>\n",
       "    </tr>\n",
       "    <tr>\n",
       "      <th>9</th>\n",
       "      <td>Manager/Senior Manager - Data Analyst</td>\n",
       "      <td>Bangalore/Bengaluru, Mumbai, Hyderabad/Secunde...</td>\n",
       "      <td>Huquo Consulting Pvt. Ltd</td>\n",
       "      <td>2-7 Yrs</td>\n",
       "    </tr>\n",
       "  </tbody>\n",
       "</table>\n",
       "</div>"
      ],
      "text/plain": [
       "                                               Title  \\\n",
       "0         Data Analyst/Senior Analyst - R/SQL/Python   \n",
       "1                                       Data Analyst   \n",
       "2  data analyst / data analytics - US MNC (analyt...   \n",
       "3      Business Data Analyst (Sr Exe / Asst Manager)   \n",
       "4   Junior Data Analyst/ Scientist- Fresher Position   \n",
       "5                                 Staff Data Analyst   \n",
       "6                             Reference Data Analyst   \n",
       "7                                    Sr Data Analyst   \n",
       "8  Job Opportunity with Leading MNC - Senior Data...   \n",
       "9              Manager/Senior Manager - Data Analyst   \n",
       "\n",
       "                                            Location  \\\n",
       "0  Temp. WFH - Bangalore/Bengaluru, Kolkata, Mumb...   \n",
       "1                                Bangalore/Bengaluru   \n",
       "2  Temp. WFH - Bangalore/Bengaluru, Gurgaon/Gurugram   \n",
       "3                                Bangalore/Bengaluru   \n",
       "4  Hybrid - Bangalore/Bengaluru, New Delhi, Mumba...   \n",
       "5                                Bangalore/Bengaluru   \n",
       "6                                Bangalore/Bengaluru   \n",
       "7                       Hybrid - Bangalore/Bengaluru   \n",
       "8                                Bangalore/Bengaluru   \n",
       "9  Bangalore/Bengaluru, Mumbai, Hyderabad/Secunde...   \n",
       "\n",
       "                             Company Name Experience  \n",
       "0                 The Nikharv Consultancy    3-6 Yrs  \n",
       "1                                  Target    2-4 Yrs  \n",
       "2                      Aspyra Hr Services    3-8 Yrs  \n",
       "3                             Talentleads    3-5 Yrs  \n",
       "4                    Sejal Consulting Hub    0-5 Yrs  \n",
       "5                                 Walmart  10-14 Yrs  \n",
       "6                           Deutsche Bank    6-8 Yrs  \n",
       "7                            Amolitalents    6-9 Yrs  \n",
       "8  Enrich And Enlight Business Consulting    5-7 Yrs  \n",
       "9               Huquo Consulting Pvt. Ltd    2-7 Yrs  "
      ]
     },
     "execution_count": 13,
     "metadata": {},
     "output_type": "execute_result"
    }
   ],
   "source": [
    "import pandas as pd\n",
    "df=pd.DataFrame({'Title':job_title,'Location':job_location,'Company Name':company_name,'Experience':experience_required})\n",
    "df"
   ]
  },
  {
   "cell_type": "code",
   "execution_count": null,
   "id": "f7e4eecb",
   "metadata": {},
   "outputs": [],
   "source": []
  },
  {
   "cell_type": "code",
   "execution_count": null,
   "id": "647e6653",
   "metadata": {},
   "outputs": [],
   "source": []
  },
  {
   "cell_type": "code",
   "execution_count": 14,
   "id": "4084bd09",
   "metadata": {},
   "outputs": [],
   "source": [
    "import selenium\n",
    "import pandas as pd\n",
    "from selenium import webdriver\n",
    "import warnings\n",
    "warnings.filterwarnings('ignore')\n",
    "from selenium.common.exceptions import StaleElementReferenceException,NoSuchElementException\n",
    "from selenium.webdriver.common.by import By\n",
    "import time"
   ]
  },
  {
   "cell_type": "code",
   "execution_count": 15,
   "id": "b9249e79",
   "metadata": {},
   "outputs": [],
   "source": [
    "driver=webdriver.Chrome(r\"chromedriver.exe\")"
   ]
  },
  {
   "cell_type": "code",
   "execution_count": 16,
   "id": "b6bc2ccd",
   "metadata": {},
   "outputs": [],
   "source": [
    "driver.get(\"https://www.naukri.com/\")"
   ]
  },
  {
   "cell_type": "code",
   "execution_count": 17,
   "id": "c9887230",
   "metadata": {},
   "outputs": [],
   "source": [
    "designation=driver.find_element(By.CLASS_NAME,\"suggestor-input \")\n",
    "designation.send_keys('Data Scientist')"
   ]
  },
  {
   "cell_type": "code",
   "execution_count": 18,
   "id": "83e71fde",
   "metadata": {},
   "outputs": [],
   "source": [
    "location=driver.find_element(By.XPATH,\"/html/body/div[1]/div[6]/div/div/div[5]/div/div/div/input\")\n",
    "location.send_keys('Bangalore')"
   ]
  },
  {
   "cell_type": "code",
   "execution_count": 19,
   "id": "8f4830a6",
   "metadata": {},
   "outputs": [],
   "source": [
    "search=driver.find_element(By.CLASS_NAME,\"qsbSubmit\")\n",
    "search.click()"
   ]
  },
  {
   "cell_type": "code",
   "execution_count": 20,
   "id": "f76f5444",
   "metadata": {},
   "outputs": [],
   "source": [
    "job_title=[]\n",
    "job_location=[]\n",
    "company_name=[]"
   ]
  },
  {
   "cell_type": "code",
   "execution_count": 21,
   "id": "1e471e2a",
   "metadata": {},
   "outputs": [
    {
     "name": "stdout",
     "output_type": "stream",
     "text": [
      "Data Scientist\n",
      "Data Scientist\n",
      "Analystics & Modeling Specialist\n",
      "Data Science Specialist\n",
      "Lead Data Scientist\n",
      "Data Scientist\n",
      "Data Scientist\n",
      "Staff Data Analyst\n",
      "Data Scientist\n",
      "Data Scientist Knowledge graph\n"
     ]
    }
   ],
   "source": [
    "title_tags=driver.find_elements(By.XPATH,'//a[@class=\"title ellipsis\"]')\n",
    "for i in title_tags[0:10]:\n",
    "    job_title.append(i.text)\n",
    "for i in job_title:\n",
    "    print(i)"
   ]
  },
  {
   "cell_type": "code",
   "execution_count": 22,
   "id": "89f06ca0",
   "metadata": {},
   "outputs": [
    {
     "name": "stdout",
     "output_type": "stream",
     "text": [
      "Bangalore/Bengaluru, Noida, Kolkata, Mumbai, Hyderabad/Secunderabad, Pune, Chennai, Gurgaon/Gurugram\n",
      "Temp. WFH - Bangalore/Bengaluru, Hyderabad/Secunderabad, Pune, Chennai, Delhi / NCR, Mumbai (All Areas)\n",
      "Bangalore/Bengaluru, Kolkata, Mumbai, Hyderabad/Secunderabad, Pune, Chennai\n",
      "Bangalore/Bengaluru, Kolkata, Mumbai, Hyderabad/Secunderabad, Pune, Chennai\n",
      "Bangalore/Bengaluru, Noida, Hyderabad/Secunderabad, Pune, Chennai, Mumbai (All Areas)\n",
      "Hybrid - Bangalore/Bengaluru, Noida, Hyderabad/Secunderabad, Pune, Chennai, Mumbai (All Areas)\n",
      "Bangalore/Bengaluru\n",
      "Bangalore/Bengaluru\n",
      "Bangalore/Bengaluru\n",
      "Hybrid - Bangalore/Bengaluru, Pune\n"
     ]
    }
   ],
   "source": [
    "location_tags=driver.find_elements(By.XPATH,'//span[@class=\"ellipsis fleft locWdth\"]')\n",
    "for i in location_tags[0:10]:\n",
    "    job_location.append(i.text)\n",
    "for i in job_location:\n",
    "    print(i)"
   ]
  },
  {
   "cell_type": "code",
   "execution_count": 23,
   "id": "a55e6200",
   "metadata": {},
   "outputs": [
    {
     "name": "stdout",
     "output_type": "stream",
     "text": [
      "Capgemini\n",
      "Tech Mahindra\n",
      "Accenture\n",
      "Accenture\n",
      "Birlasoft\n",
      "Birlasoft\n",
      "ANZ\n",
      "Walmart\n",
      "ANZ\n",
      "Capco\n"
     ]
    }
   ],
   "source": [
    "company_tags=driver.find_elements(By.XPATH,'//a[@class=\"subTitle ellipsis fleft\"]')\n",
    "for i in company_tags[0:10]:\n",
    "    company_name.append(i.text)\n",
    "for i in company_name:\n",
    "    print(i)"
   ]
  },
  {
   "cell_type": "code",
   "execution_count": 25,
   "id": "3cd25d78",
   "metadata": {},
   "outputs": [
    {
     "name": "stdout",
     "output_type": "stream",
     "text": [
      "10 10 10\n"
     ]
    }
   ],
   "source": [
    "print(len(job_title),len(job_location),len(company_name))"
   ]
  },
  {
   "cell_type": "code",
   "execution_count": 26,
   "id": "3a3bf3bc",
   "metadata": {},
   "outputs": [
    {
     "data": {
      "text/html": [
       "<div>\n",
       "<style scoped>\n",
       "    .dataframe tbody tr th:only-of-type {\n",
       "        vertical-align: middle;\n",
       "    }\n",
       "\n",
       "    .dataframe tbody tr th {\n",
       "        vertical-align: top;\n",
       "    }\n",
       "\n",
       "    .dataframe thead th {\n",
       "        text-align: right;\n",
       "    }\n",
       "</style>\n",
       "<table border=\"1\" class=\"dataframe\">\n",
       "  <thead>\n",
       "    <tr style=\"text-align: right;\">\n",
       "      <th></th>\n",
       "      <th>Title</th>\n",
       "      <th>Location</th>\n",
       "      <th>Company Name</th>\n",
       "    </tr>\n",
       "  </thead>\n",
       "  <tbody>\n",
       "    <tr>\n",
       "      <th>0</th>\n",
       "      <td>Data Scientist</td>\n",
       "      <td>Bangalore/Bengaluru, Noida, Kolkata, Mumbai, H...</td>\n",
       "      <td>Capgemini</td>\n",
       "    </tr>\n",
       "    <tr>\n",
       "      <th>1</th>\n",
       "      <td>Data Scientist</td>\n",
       "      <td>Temp. WFH - Bangalore/Bengaluru, Hyderabad/Sec...</td>\n",
       "      <td>Tech Mahindra</td>\n",
       "    </tr>\n",
       "    <tr>\n",
       "      <th>2</th>\n",
       "      <td>Analystics &amp; Modeling Specialist</td>\n",
       "      <td>Bangalore/Bengaluru, Kolkata, Mumbai, Hyderaba...</td>\n",
       "      <td>Accenture</td>\n",
       "    </tr>\n",
       "    <tr>\n",
       "      <th>3</th>\n",
       "      <td>Data Science Specialist</td>\n",
       "      <td>Bangalore/Bengaluru, Kolkata, Mumbai, Hyderaba...</td>\n",
       "      <td>Accenture</td>\n",
       "    </tr>\n",
       "    <tr>\n",
       "      <th>4</th>\n",
       "      <td>Lead Data Scientist</td>\n",
       "      <td>Bangalore/Bengaluru, Noida, Hyderabad/Secunder...</td>\n",
       "      <td>Birlasoft</td>\n",
       "    </tr>\n",
       "    <tr>\n",
       "      <th>5</th>\n",
       "      <td>Data Scientist</td>\n",
       "      <td>Hybrid - Bangalore/Bengaluru, Noida, Hyderabad...</td>\n",
       "      <td>Birlasoft</td>\n",
       "    </tr>\n",
       "    <tr>\n",
       "      <th>6</th>\n",
       "      <td>Data Scientist</td>\n",
       "      <td>Bangalore/Bengaluru</td>\n",
       "      <td>ANZ</td>\n",
       "    </tr>\n",
       "    <tr>\n",
       "      <th>7</th>\n",
       "      <td>Staff Data Analyst</td>\n",
       "      <td>Bangalore/Bengaluru</td>\n",
       "      <td>Walmart</td>\n",
       "    </tr>\n",
       "    <tr>\n",
       "      <th>8</th>\n",
       "      <td>Data Scientist</td>\n",
       "      <td>Bangalore/Bengaluru</td>\n",
       "      <td>ANZ</td>\n",
       "    </tr>\n",
       "    <tr>\n",
       "      <th>9</th>\n",
       "      <td>Data Scientist Knowledge graph</td>\n",
       "      <td>Hybrid - Bangalore/Bengaluru, Pune</td>\n",
       "      <td>Capco</td>\n",
       "    </tr>\n",
       "  </tbody>\n",
       "</table>\n",
       "</div>"
      ],
      "text/plain": [
       "                              Title  \\\n",
       "0                    Data Scientist   \n",
       "1                    Data Scientist   \n",
       "2  Analystics & Modeling Specialist   \n",
       "3           Data Science Specialist   \n",
       "4               Lead Data Scientist   \n",
       "5                    Data Scientist   \n",
       "6                    Data Scientist   \n",
       "7                Staff Data Analyst   \n",
       "8                    Data Scientist   \n",
       "9    Data Scientist Knowledge graph   \n",
       "\n",
       "                                            Location   Company Name  \n",
       "0  Bangalore/Bengaluru, Noida, Kolkata, Mumbai, H...      Capgemini  \n",
       "1  Temp. WFH - Bangalore/Bengaluru, Hyderabad/Sec...  Tech Mahindra  \n",
       "2  Bangalore/Bengaluru, Kolkata, Mumbai, Hyderaba...      Accenture  \n",
       "3  Bangalore/Bengaluru, Kolkata, Mumbai, Hyderaba...      Accenture  \n",
       "4  Bangalore/Bengaluru, Noida, Hyderabad/Secunder...      Birlasoft  \n",
       "5  Hybrid - Bangalore/Bengaluru, Noida, Hyderabad...      Birlasoft  \n",
       "6                                Bangalore/Bengaluru            ANZ  \n",
       "7                                Bangalore/Bengaluru        Walmart  \n",
       "8                                Bangalore/Bengaluru            ANZ  \n",
       "9                 Hybrid - Bangalore/Bengaluru, Pune          Capco  "
      ]
     },
     "execution_count": 26,
     "metadata": {},
     "output_type": "execute_result"
    }
   ],
   "source": [
    "import pandas as pd\n",
    "df=pd.DataFrame({'Title':job_title,'Location':job_location,'Company Name':company_name})\n",
    "df"
   ]
  },
  {
   "cell_type": "code",
   "execution_count": null,
   "id": "98460357",
   "metadata": {},
   "outputs": [],
   "source": []
  },
  {
   "cell_type": "code",
   "execution_count": null,
   "id": "3bb97008",
   "metadata": {},
   "outputs": [],
   "source": []
  },
  {
   "cell_type": "code",
   "execution_count": 57,
   "id": "9605ae57",
   "metadata": {},
   "outputs": [],
   "source": [
    "import selenium\n",
    "import pandas as pd\n",
    "from selenium import webdriver\n",
    "import warnings\n",
    "warnings.filterwarnings('ignore')\n",
    "from selenium.common.exceptions import StaleElementReferenceException,NoSuchElementException\n",
    "from selenium.webdriver.common.by import By\n",
    "import time"
   ]
  },
  {
   "cell_type": "code",
   "execution_count": 58,
   "id": "b52b7e0b",
   "metadata": {},
   "outputs": [],
   "source": [
    "driver=webdriver.Chrome(r\"chromedriver.exe\")"
   ]
  },
  {
   "cell_type": "code",
   "execution_count": 59,
   "id": "825372f4",
   "metadata": {},
   "outputs": [],
   "source": [
    "driver.get(\"https://www.naukri.com/\")"
   ]
  },
  {
   "cell_type": "code",
   "execution_count": 60,
   "id": "22e69b65",
   "metadata": {},
   "outputs": [],
   "source": [
    "designation=driver.find_element(By.CLASS_NAME,\"suggestor-input \")\n",
    "designation.send_keys('Data Scientist')"
   ]
  },
  {
   "cell_type": "code",
   "execution_count": 61,
   "id": "bb78b0e1",
   "metadata": {},
   "outputs": [],
   "source": [
    "search=driver.find_element(By.CLASS_NAME,\"qsbSubmit\")\n",
    "search.click()"
   ]
  },
  {
   "cell_type": "code",
   "execution_count": 62,
   "id": "d06da342",
   "metadata": {},
   "outputs": [],
   "source": [
    "location=driver.find_element(By.XPATH,\"/html/body/div[1]/div[4]/div/div/section[1]/div[2]/div[5]/div[2]/div[2]/label/p/span[1]\")\n",
    "location.click()"
   ]
  },
  {
   "cell_type": "code",
   "execution_count": 63,
   "id": "266477ec",
   "metadata": {},
   "outputs": [],
   "source": [
    "salary=driver.find_element(By.XPATH,\"/html/body/div[1]/div[4]/div/div/section[1]/div[2]/div[6]/div[2]/div[2]/label/p/span[1]\")\n",
    "salary.click()"
   ]
  },
  {
   "cell_type": "code",
   "execution_count": 65,
   "id": "f4ff600b",
   "metadata": {},
   "outputs": [
    {
     "name": "stdout",
     "output_type": "stream",
     "text": [
      "Analyst-Data Science\n",
      "Analyst-Data Science\n",
      "Data Scientist\n",
      "Data Scientist\n",
      "AWS Data Warehouse Developer - IT Industry\n",
      "Data Scientist\n",
      "Data Scientist\n",
      "Data Scientist\n",
      "Junior Data Scientist\n",
      "Modeler\n"
     ]
    }
   ],
   "source": [
    "title_tags=driver.find_elements(By.XPATH,'//a[@class=\"title ellipsis\"]')\n",
    "for i in title_tags[0:10]:\n",
    "    job_title.append(i.text)\n",
    "for i in job_title:\n",
    "    print(i)"
   ]
  },
  {
   "cell_type": "code",
   "execution_count": 66,
   "id": "60b09b63",
   "metadata": {},
   "outputs": [
    {
     "name": "stdout",
     "output_type": "stream",
     "text": [
      "Gurgaon/Gurugram\n",
      "Gurgaon/Gurugram\n",
      "Delhi / NCR, Noida(Sector-136 Noida), Ghaziabad, Greater Noida\n",
      "Noida\n",
      "Delhi / NCR, Bangalore/Bengaluru, Maharashtra\n",
      "Permanent Remote\n",
      "Noida\n",
      "Dehradun, Hyderabad/Secunderabad, Gurgaon/Gurugram\n",
      "Delhi / NCR\n",
      "Noida\n"
     ]
    }
   ],
   "source": [
    "location_tags=driver.find_elements(By.XPATH,'//span[@class=\"ellipsis fleft locWdth\"]')\n",
    "for i in location_tags[0:10]:\n",
    "    job_location.append(i.text)\n",
    "for i in job_location:\n",
    "    print(i)"
   ]
  },
  {
   "cell_type": "code",
   "execution_count": 67,
   "id": "81c004e4",
   "metadata": {},
   "outputs": [
    {
     "name": "stdout",
     "output_type": "stream",
     "text": [
      "AMERICAN EXPRESS\n",
      "AMERICAN EXPRESS\n",
      "Extramarks Education\n",
      "Gujarat Fluorochemicals\n",
      "GenNext India Private Limited\n",
      "Vizlogic Digital Solutions\n",
      "Metrix Research & Analytics\n",
      "torcai digital media\n",
      "Skyleaf Consultants\n",
      "Resource Access Management Solutions Pvt. Ltd.\n"
     ]
    }
   ],
   "source": [
    "company_tags=driver.find_elements(By.XPATH,'//a[@class=\"subTitle ellipsis fleft\"]')\n",
    "for i in company_tags[0:10]:\n",
    "    company_name.append(i.text)\n",
    "for i in company_name:\n",
    "    print(i)"
   ]
  },
  {
   "cell_type": "code",
   "execution_count": 68,
   "id": "c7716ade",
   "metadata": {},
   "outputs": [
    {
     "name": "stdout",
     "output_type": "stream",
     "text": [
      "0-3 Yrs\n",
      "0-3 Yrs\n",
      "3-5 Yrs\n",
      "1-2 Yrs\n",
      "4-9 Yrs\n",
      "2-5 Yrs\n",
      "3-7 Yrs\n",
      "2-7 Yrs\n",
      "2-4 Yrs\n",
      "3-7 Yrs\n"
     ]
    }
   ],
   "source": [
    "experience_tags=driver.find_elements(By.XPATH,'//span[@class=\"ellipsis fleft expwdth\"]')\n",
    "for i in experience_tags[0:10]:\n",
    "    experience_required.append(i.text)\n",
    "for i in experience_required:\n",
    "    print(i)"
   ]
  },
  {
   "cell_type": "code",
   "execution_count": 69,
   "id": "94e3270b",
   "metadata": {},
   "outputs": [
    {
     "name": "stdout",
     "output_type": "stream",
     "text": [
      "10 10 10 10\n"
     ]
    }
   ],
   "source": [
    "print(len(job_title),len(job_location),len(company_name),len(experience_required))"
   ]
  },
  {
   "cell_type": "code",
   "execution_count": 70,
   "id": "c9266def",
   "metadata": {},
   "outputs": [
    {
     "data": {
      "text/html": [
       "<div>\n",
       "<style scoped>\n",
       "    .dataframe tbody tr th:only-of-type {\n",
       "        vertical-align: middle;\n",
       "    }\n",
       "\n",
       "    .dataframe tbody tr th {\n",
       "        vertical-align: top;\n",
       "    }\n",
       "\n",
       "    .dataframe thead th {\n",
       "        text-align: right;\n",
       "    }\n",
       "</style>\n",
       "<table border=\"1\" class=\"dataframe\">\n",
       "  <thead>\n",
       "    <tr style=\"text-align: right;\">\n",
       "      <th></th>\n",
       "      <th>Title</th>\n",
       "      <th>Location</th>\n",
       "      <th>Company Name</th>\n",
       "      <th>Experience</th>\n",
       "    </tr>\n",
       "  </thead>\n",
       "  <tbody>\n",
       "    <tr>\n",
       "      <th>0</th>\n",
       "      <td>Analyst-Data Science</td>\n",
       "      <td>Gurgaon/Gurugram</td>\n",
       "      <td>AMERICAN EXPRESS</td>\n",
       "      <td>0-3 Yrs</td>\n",
       "    </tr>\n",
       "    <tr>\n",
       "      <th>1</th>\n",
       "      <td>Analyst-Data Science</td>\n",
       "      <td>Gurgaon/Gurugram</td>\n",
       "      <td>AMERICAN EXPRESS</td>\n",
       "      <td>0-3 Yrs</td>\n",
       "    </tr>\n",
       "    <tr>\n",
       "      <th>2</th>\n",
       "      <td>Data Scientist</td>\n",
       "      <td>Delhi / NCR, Noida(Sector-136 Noida), Ghaziaba...</td>\n",
       "      <td>Extramarks Education</td>\n",
       "      <td>3-5 Yrs</td>\n",
       "    </tr>\n",
       "    <tr>\n",
       "      <th>3</th>\n",
       "      <td>Data Scientist</td>\n",
       "      <td>Noida</td>\n",
       "      <td>Gujarat Fluorochemicals</td>\n",
       "      <td>1-2 Yrs</td>\n",
       "    </tr>\n",
       "    <tr>\n",
       "      <th>4</th>\n",
       "      <td>AWS Data Warehouse Developer - IT Industry</td>\n",
       "      <td>Delhi / NCR, Bangalore/Bengaluru, Maharashtra</td>\n",
       "      <td>GenNext India Private Limited</td>\n",
       "      <td>4-9 Yrs</td>\n",
       "    </tr>\n",
       "    <tr>\n",
       "      <th>5</th>\n",
       "      <td>Data Scientist</td>\n",
       "      <td>Permanent Remote</td>\n",
       "      <td>Vizlogic Digital Solutions</td>\n",
       "      <td>2-5 Yrs</td>\n",
       "    </tr>\n",
       "    <tr>\n",
       "      <th>6</th>\n",
       "      <td>Data Scientist</td>\n",
       "      <td>Noida</td>\n",
       "      <td>Metrix Research &amp; Analytics</td>\n",
       "      <td>3-7 Yrs</td>\n",
       "    </tr>\n",
       "    <tr>\n",
       "      <th>7</th>\n",
       "      <td>Data Scientist</td>\n",
       "      <td>Dehradun, Hyderabad/Secunderabad, Gurgaon/Guru...</td>\n",
       "      <td>torcai digital media</td>\n",
       "      <td>2-7 Yrs</td>\n",
       "    </tr>\n",
       "    <tr>\n",
       "      <th>8</th>\n",
       "      <td>Junior Data Scientist</td>\n",
       "      <td>Delhi / NCR</td>\n",
       "      <td>Skyleaf Consultants</td>\n",
       "      <td>2-4 Yrs</td>\n",
       "    </tr>\n",
       "    <tr>\n",
       "      <th>9</th>\n",
       "      <td>Modeler</td>\n",
       "      <td>Noida</td>\n",
       "      <td>Resource Access Management Solutions Pvt. Ltd.</td>\n",
       "      <td>3-7 Yrs</td>\n",
       "    </tr>\n",
       "  </tbody>\n",
       "</table>\n",
       "</div>"
      ],
      "text/plain": [
       "                                        Title  \\\n",
       "0                        Analyst-Data Science   \n",
       "1                        Analyst-Data Science   \n",
       "2                              Data Scientist   \n",
       "3                              Data Scientist   \n",
       "4  AWS Data Warehouse Developer - IT Industry   \n",
       "5                              Data Scientist   \n",
       "6                              Data Scientist   \n",
       "7                              Data Scientist   \n",
       "8                       Junior Data Scientist   \n",
       "9                                     Modeler   \n",
       "\n",
       "                                            Location  \\\n",
       "0                                   Gurgaon/Gurugram   \n",
       "1                                   Gurgaon/Gurugram   \n",
       "2  Delhi / NCR, Noida(Sector-136 Noida), Ghaziaba...   \n",
       "3                                              Noida   \n",
       "4      Delhi / NCR, Bangalore/Bengaluru, Maharashtra   \n",
       "5                                   Permanent Remote   \n",
       "6                                              Noida   \n",
       "7  Dehradun, Hyderabad/Secunderabad, Gurgaon/Guru...   \n",
       "8                                        Delhi / NCR   \n",
       "9                                              Noida   \n",
       "\n",
       "                                     Company Name Experience  \n",
       "0                                AMERICAN EXPRESS    0-3 Yrs  \n",
       "1                                AMERICAN EXPRESS    0-3 Yrs  \n",
       "2                            Extramarks Education    3-5 Yrs  \n",
       "3                         Gujarat Fluorochemicals    1-2 Yrs  \n",
       "4                   GenNext India Private Limited    4-9 Yrs  \n",
       "5                      Vizlogic Digital Solutions    2-5 Yrs  \n",
       "6                     Metrix Research & Analytics    3-7 Yrs  \n",
       "7                            torcai digital media    2-7 Yrs  \n",
       "8                             Skyleaf Consultants    2-4 Yrs  \n",
       "9  Resource Access Management Solutions Pvt. Ltd.    3-7 Yrs  "
      ]
     },
     "execution_count": 70,
     "metadata": {},
     "output_type": "execute_result"
    }
   ],
   "source": [
    "import pandas as pd\n",
    "df=pd.DataFrame({'Title':job_title,'Location':job_location,'Company Name':company_name,'Experience':experience_required})\n",
    "df"
   ]
  },
  {
   "cell_type": "code",
   "execution_count": null,
   "id": "bcbe22d9",
   "metadata": {},
   "outputs": [],
   "source": []
  },
  {
   "cell_type": "code",
   "execution_count": null,
   "id": "7ab798f7",
   "metadata": {},
   "outputs": [],
   "source": []
  },
  {
   "cell_type": "code",
   "execution_count": 306,
   "id": "ac32a1d1",
   "metadata": {},
   "outputs": [],
   "source": [
    "import selenium\n",
    "import pandas as pd\n",
    "from selenium import webdriver\n",
    "import warnings\n",
    "warnings.filterwarnings('ignore')\n",
    "from selenium.common.exceptions import StaleElementReferenceException,NoSuchElementException\n",
    "from selenium.webdriver.common.by import By\n",
    "from time import sleep"
   ]
  },
  {
   "cell_type": "code",
   "execution_count": 307,
   "id": "f128666a",
   "metadata": {},
   "outputs": [],
   "source": [
    "driver=webdriver.Chrome(r\"chromedriver.exe\")"
   ]
  },
  {
   "cell_type": "code",
   "execution_count": 308,
   "id": "635691c6",
   "metadata": {},
   "outputs": [],
   "source": [
    "driver.get(\"https://www.flipkart.com/\")"
   ]
  },
  {
   "cell_type": "code",
   "execution_count": 309,
   "id": "ef38d898",
   "metadata": {},
   "outputs": [],
   "source": [
    "login_cut=driver.find_element(By.XPATH,\"/html/body/div[2]/div/div/button\")\n",
    "login_cut.click()"
   ]
  },
  {
   "cell_type": "code",
   "execution_count": 310,
   "id": "3dd95706",
   "metadata": {},
   "outputs": [],
   "source": [
    "search_element=driver.find_element(By.XPATH,\"/html/body/div[1]/div/div[1]/div[1]/div[2]/div[2]/form/div/div/input\")"
   ]
  },
  {
   "cell_type": "code",
   "execution_count": 311,
   "id": "f33acaf5",
   "metadata": {},
   "outputs": [],
   "source": [
    "search_btn=driver.find_element(By.CLASS_NAME,\"L0Z3Pu\")"
   ]
  },
  {
   "cell_type": "code",
   "execution_count": 312,
   "id": "9859e723",
   "metadata": {},
   "outputs": [],
   "source": [
    "search_element.send_keys('sunglasses')\n",
    "sleep(1)\n",
    "search_btn.click()"
   ]
  },
  {
   "cell_type": "code",
   "execution_count": 87,
   "id": "c0442a78",
   "metadata": {},
   "outputs": [
    {
     "name": "stdout",
     "output_type": "stream",
     "text": [
      "PC STAR\n",
      "SRPM\n",
      "Fastrack\n",
      "Elligator\n",
      "Elligator\n",
      "Fastrack\n",
      "Elligator\n",
      "Elligator\n",
      "PHENOMENAL\n",
      "LIZA ANGEL\n",
      "SHAAH COLLECTIONS\n",
      "ROZZETTA CRAFT\n",
      "VINCENT CHASE\n",
      "Elligator\n",
      "SRPM\n",
      "Elligator\n",
      "PIRASO\n",
      "PIRASO\n",
      "SRPM\n",
      "ROZZETTA CRAFT\n",
      "New Specs\n",
      "Fastrack\n",
      "Fastrack\n",
      "SRPM\n",
      "ROZZETTA CRAFT\n",
      "LIZA ANGEL\n",
      "SUNBEE\n",
      "ROZZETTA CRAFT\n",
      "PIRASO\n",
      "SRPM\n",
      "EYELLUSION\n",
      "Silver Kartz\n",
      "PIRASO\n",
      "LIZA ANGEL\n",
      "PIRASO\n",
      "ARICKS\n",
      "VINCENT CHASE\n",
      "ROZZETTA CRAFT\n",
      "Fastrack\n",
      "Eyewearlabs\n"
     ]
    }
   ],
   "source": [
    "brand_name=[]\n",
    "brands=driver.find_elements(By.CLASS_NAME,\"_2WkVRV\")\n",
    "for i in brands:\n",
    "    brand_name.append(i.text)\n",
    "for i in brand_name:\n",
    "    print(i)"
   ]
  },
  {
   "cell_type": "code",
   "execution_count": 88,
   "id": "6c558737",
   "metadata": {},
   "outputs": [
    {
     "name": "stdout",
     "output_type": "stream",
     "text": [
      "Riding Glasses, UV Protection Retro Square Sunglasses (...\n",
      "UV Protection Wayfarer Sunglasses (53)\n",
      "UV Protection Wayfarer Sunglasses (Free Size)\n",
      "UV Protection Cat-eye, Retro Square, Oval, Round Sungla...\n",
      "UV Protection Cat-eye, Retro Square, Oval, Round Sungla...\n",
      "UV Protection Rectangular Sunglasses (Free Size)\n",
      "UV Protection Round Sunglasses (54)\n",
      "UV Protection Wayfarer Sunglasses (53)\n",
      "UV Protection Retro Square Sunglasses (53)\n",
      "Riding Glasses, Night Vision Spectacle Sunglasses (Fre...\n",
      "UV Protection, Polarized, Mirrored Rectangular Sunglass...\n",
      "UV Protection, Gradient Round Sunglasses (Free Size)\n",
      "UV Protection Wayfarer Sunglasses (59)\n",
      "UV Protection Round Sunglasses (53)\n",
      "UV Protection Wayfarer Sunglasses (50)\n",
      "UV Protection, Mirrored Wayfarer Sunglasses (54)\n",
      "UV Protection Aviator Sunglasses (58)\n",
      "UV Protection Rectangular Sunglasses (52)\n",
      "Night Vision, UV Protection Round Sunglasses (54)\n",
      "UV Protection, Gradient Rectangular Sunglasses (Free Si...\n",
      "UV Protection Rectangular Sunglasses (Free Size)\n",
      "Gradient, UV Protection Wayfarer Sunglasses (Free Size)\n",
      "UV Protection Aviator Sunglasses (Free Size)\n",
      "Others Wayfarer, Retro Square, Rectangular Sunglasses (...\n",
      "UV Protection Aviator Sunglasses (55)\n",
      "UV Protection, Polarized Rectangular Sunglasses (Free S...\n",
      "UV Protection Rectangular Sunglasses (Free Size)\n",
      "UV Protection Spectacle Sunglasses (Free Size)\n",
      "UV Protection Aviator Sunglasses (54)\n",
      "Others Wayfarer, Retro Square Sunglasses (50)\n",
      "Night Vision, Polarized, UV Protection, Riding Glasses ...\n",
      "UV Protection Aviator Sunglasses (88)\n",
      "UV Protection Clubmaster Sunglasses (54)\n",
      "Riding Glasses, UV Protection, Night Vision Spectacle ...\n",
      "UV Protection Aviator Sunglasses (Free Size)\n",
      "UV Protection, Polarized Rectangular Sunglasses (Free S...\n",
      "by Lenskart Polarized, UV Protection Aviator Sunglasses...\n",
      "Polarized, Riding Glasses Sports, Wrap-around Sunglasse...\n",
      "UV Protection Wayfarer Sunglasses (Free Size)\n",
      "Polarized, UV Protection Aviator Sunglasses (60)\n"
     ]
    }
   ],
   "source": [
    "description=[]\n",
    "descript=driver.find_elements(By.CLASS_NAME,\"IRpwTa\")\n",
    "for i in descript:\n",
    "    description.append(i.text)\n",
    "for i in description:\n",
    "    print(i)"
   ]
  },
  {
   "cell_type": "code",
   "execution_count": 90,
   "id": "ad7b5f5c",
   "metadata": {},
   "outputs": [
    {
     "name": "stdout",
     "output_type": "stream",
     "text": [
      "₹282\n",
      "₹199\n",
      "₹599\n",
      "₹149\n",
      "₹129\n",
      "₹499\n",
      "₹229\n",
      "₹179\n",
      "₹129\n",
      "₹174\n",
      "₹129\n",
      "₹391\n",
      "₹599\n",
      "₹149\n",
      "₹149\n",
      "₹179\n",
      "₹274\n",
      "₹182\n",
      "₹179\n",
      "₹423\n",
      "₹259\n",
      "₹579\n",
      "₹579\n",
      "₹199\n",
      "₹649\n",
      "₹129\n",
      "₹129\n",
      "₹398\n",
      "₹244\n",
      "₹129\n",
      "₹281\n",
      "₹266\n",
      "₹257\n",
      "₹129\n",
      "₹268\n",
      "₹259\n",
      "₹999\n",
      "₹471\n",
      "₹579\n",
      "₹1,518\n"
     ]
    }
   ],
   "source": [
    "prices=[]\n",
    "price=driver.find_elements(By.CLASS_NAME,\"_30jeq3\")\n",
    "for i in price[:40]:\n",
    "    prices.append(i.text)\n",
    "for i in prices:\n",
    "    print(i)"
   ]
  },
  {
   "cell_type": "code",
   "execution_count": 91,
   "id": "0f79abf6",
   "metadata": {},
   "outputs": [],
   "source": [
    "sleep(5)\n",
    "next_btn=driver.find_element(By.XPATH,\"/html/body/div[1]/div/div[3]/div[1]/div[2]/div[12]/div/div/nav/a[11]\")\n",
    "next_btn.click()"
   ]
  },
  {
   "cell_type": "code",
   "execution_count": 92,
   "id": "f86ee197",
   "metadata": {},
   "outputs": [
    {
     "name": "stdout",
     "output_type": "stream",
     "text": [
      "PC STAR\n",
      "SRPM\n",
      "Fastrack\n",
      "Elligator\n",
      "Elligator\n",
      "Fastrack\n",
      "Elligator\n",
      "Elligator\n",
      "PHENOMENAL\n",
      "LIZA ANGEL\n",
      "SHAAH COLLECTIONS\n",
      "ROZZETTA CRAFT\n",
      "VINCENT CHASE\n",
      "Elligator\n",
      "SRPM\n",
      "Elligator\n",
      "PIRASO\n",
      "PIRASO\n",
      "SRPM\n",
      "ROZZETTA CRAFT\n",
      "New Specs\n",
      "Fastrack\n",
      "Fastrack\n",
      "SRPM\n",
      "ROZZETTA CRAFT\n",
      "LIZA ANGEL\n",
      "SUNBEE\n",
      "ROZZETTA CRAFT\n",
      "PIRASO\n",
      "SRPM\n",
      "EYELLUSION\n",
      "Silver Kartz\n",
      "PIRASO\n",
      "LIZA ANGEL\n",
      "PIRASO\n",
      "ARICKS\n",
      "VINCENT CHASE\n",
      "ROZZETTA CRAFT\n",
      "Fastrack\n",
      "Eyewearlabs\n",
      "Fastrack\n",
      "PIRASO\n",
      "Sewell\n",
      "PC STAR\n",
      "Fastrack\n",
      "Elligator\n",
      "PIRASO\n",
      "SRPM\n",
      "Elligator\n",
      "Elligator\n",
      "Fastrack\n",
      "Elligator\n",
      "NuVew\n",
      "VINCENT CHASE\n",
      "ROYAL SON\n",
      "Elligator\n",
      "New Specs\n",
      "SUNBEE\n",
      "ROZZETTA CRAFT\n",
      "SRPM\n",
      "Satyam Kraft\n",
      "PIRASO\n",
      "VINCENT CHASE\n",
      "ROZZETTA CRAFT\n",
      "Fastrack\n",
      "kingsunglasses\n",
      "SUNBEE\n",
      "ROZZETTA CRAFT\n",
      "NuVew\n",
      "VINCENT CHASE\n",
      "PIRASO\n",
      "Elligator\n",
      "ROYAL SON\n",
      "Fastrack\n",
      "LIZA ANGEL\n",
      "SRPM\n",
      "VINCENT CHASE\n",
      "Fastrack\n",
      "kingsunglasses\n",
      "ROZZETTA CRAFT\n"
     ]
    }
   ],
   "source": [
    "brands=driver.find_elements(By.CLASS_NAME,\"_2WkVRV\")\n",
    "for i in brands:\n",
    "    brand_name.append(i.text)\n",
    "for i in brand_name:\n",
    "    print(i)"
   ]
  },
  {
   "cell_type": "code",
   "execution_count": 93,
   "id": "3761434d",
   "metadata": {},
   "outputs": [
    {
     "name": "stdout",
     "output_type": "stream",
     "text": [
      "Riding Glasses, UV Protection Retro Square Sunglasses (...\n",
      "UV Protection Wayfarer Sunglasses (53)\n",
      "UV Protection Wayfarer Sunglasses (Free Size)\n",
      "UV Protection Cat-eye, Retro Square, Oval, Round Sungla...\n",
      "UV Protection Cat-eye, Retro Square, Oval, Round Sungla...\n",
      "UV Protection Rectangular Sunglasses (Free Size)\n",
      "UV Protection Round Sunglasses (54)\n",
      "UV Protection Wayfarer Sunglasses (53)\n",
      "UV Protection Retro Square Sunglasses (53)\n",
      "Riding Glasses, Night Vision Spectacle Sunglasses (Fre...\n",
      "UV Protection, Polarized, Mirrored Rectangular Sunglass...\n",
      "UV Protection, Gradient Round Sunglasses (Free Size)\n",
      "UV Protection Wayfarer Sunglasses (59)\n",
      "UV Protection Round Sunglasses (53)\n",
      "UV Protection Wayfarer Sunglasses (50)\n",
      "UV Protection, Mirrored Wayfarer Sunglasses (54)\n",
      "UV Protection Aviator Sunglasses (58)\n",
      "UV Protection Rectangular Sunglasses (52)\n",
      "Night Vision, UV Protection Round Sunglasses (54)\n",
      "UV Protection, Gradient Rectangular Sunglasses (Free Si...\n",
      "UV Protection Rectangular Sunglasses (Free Size)\n",
      "Gradient, UV Protection Wayfarer Sunglasses (Free Size)\n",
      "UV Protection Aviator Sunglasses (Free Size)\n",
      "Others Wayfarer, Retro Square, Rectangular Sunglasses (...\n",
      "UV Protection Aviator Sunglasses (55)\n",
      "UV Protection, Polarized Rectangular Sunglasses (Free S...\n",
      "UV Protection Rectangular Sunglasses (Free Size)\n",
      "UV Protection Spectacle Sunglasses (Free Size)\n",
      "UV Protection Aviator Sunglasses (54)\n",
      "Others Wayfarer, Retro Square Sunglasses (50)\n",
      "Night Vision, Polarized, UV Protection, Riding Glasses ...\n",
      "UV Protection Aviator Sunglasses (88)\n",
      "UV Protection Clubmaster Sunglasses (54)\n",
      "Riding Glasses, UV Protection, Night Vision Spectacle ...\n",
      "UV Protection Aviator Sunglasses (Free Size)\n",
      "UV Protection, Polarized Rectangular Sunglasses (Free S...\n",
      "by Lenskart Polarized, UV Protection Aviator Sunglasses...\n",
      "Polarized, Riding Glasses Sports, Wrap-around Sunglasse...\n",
      "UV Protection Wayfarer Sunglasses (Free Size)\n",
      "Polarized, UV Protection Aviator Sunglasses (60)\n",
      "UV Protection Wayfarer Sunglasses (Free Size)\n",
      "Polarized Wrap-around Sunglasses (45)\n",
      "Mirrored, Night Vision, UV Protection, Riding Glasses S...\n",
      "Riding Glasses, UV Protection Retro Square Sunglasses (...\n",
      "UV Protection Wayfarer Sunglasses (Free Size)\n",
      "Others Cat-eye, Retro Square, Wayfarer Sunglasses (54)\n",
      "UV Protection Wayfarer Sunglasses (32)\n",
      "UV Protection Wayfarer Sunglasses (53)\n",
      "UV Protection Aviator, Wayfarer Sunglasses (54)\n",
      "UV Protection Round Sunglasses (53)\n",
      "Gradient, UV Protection Wayfarer Sunglasses (Free Size)\n",
      "UV Protection Round Sunglasses (53)\n",
      "UV Protection, Mirrored Wayfarer Sunglasses (58)\n",
      "Polarized, UV Protection Round Sunglasses (51)\n",
      "UV Protection Rectangular, Retro Square Sunglasses (58)\n",
      "UV Protection Wayfarer Sunglasses (53)\n",
      "UV Protection Retro Square Sunglasses (Free Size)\n",
      "UV Protection Rectangular Sunglasses (Free Size)\n",
      "UV Protection Aviator Sunglasses (62)\n",
      "Riding Glasses, Mirrored Wayfarer Sunglasses (54)\n",
      "Others Spectacle Sunglasses (Free Size)\n",
      "UV Protection Over-sized Sunglasses (65)\n",
      "by Lenskart Polarized, UV Protection Aviator Sunglasses...\n",
      "UV Protection, Gradient Round Sunglasses (Free Size)\n",
      "UV Protection Shield Sunglasses (Free Size)\n",
      "UV Protection Rectangular Sunglasses (Free Size)\n",
      "UV Protection, Polarized Wayfarer Sunglasses (Free Size...\n",
      "UV Protection, Gradient Rectangular Sunglasses (Free Si...\n",
      "UV Protection, Mirrored Aviator Sunglasses (57)\n",
      "by Lenskart Polarized, UV Protection Rectangular Sungla...\n",
      "UV Protection Over-sized Sunglasses (60)\n",
      "UV Protection, Mirrored Wayfarer Sunglasses (54)\n",
      "Mirrored Aviator Sunglasses (55)\n",
      "UV Protection Aviator Sunglasses (57)\n",
      "UV Protection, Night Vision, Riding Glasses Wayfarer Su...\n",
      "Others Wayfarer, Retro Square, Rectangular Sunglasses (...\n",
      "Polarized, UV Protection Round Sunglasses (50)\n",
      "UV Protection Wayfarer Sunglasses (Free Size)\n",
      "UV Protection Rectangular Sunglasses (55)\n",
      "UV Protection Spectacle Sunglasses (Free Size)\n"
     ]
    }
   ],
   "source": [
    "descript=driver.find_elements(By.CLASS_NAME,\"IRpwTa\")\n",
    "for i in descript:\n",
    "    description.append(i.text)\n",
    "for i in description:\n",
    "    print(i)"
   ]
  },
  {
   "cell_type": "code",
   "execution_count": 96,
   "id": "510e6e1c",
   "metadata": {},
   "outputs": [
    {
     "name": "stdout",
     "output_type": "stream",
     "text": [
      "₹579\n",
      "₹397\n",
      "₹280\n",
      "₹282\n",
      "₹519\n",
      "₹149\n",
      "₹214\n",
      "₹199\n",
      "₹149\n",
      "₹149\n",
      "₹519\n",
      "₹149\n",
      "₹108\n",
      "₹999\n",
      "₹497\n",
      "₹179\n",
      "₹129\n",
      "₹129\n",
      "₹649\n",
      "₹179\n",
      "₹299\n",
      "₹342\n",
      "₹699\n",
      "₹391\n",
      "₹579\n",
      "₹196\n",
      "₹283\n",
      "₹423\n",
      "₹125\n",
      "₹679\n",
      "₹270\n",
      "₹179\n",
      "₹398\n",
      "₹519\n",
      "₹210\n",
      "₹199\n",
      "₹949\n",
      "₹649\n",
      "₹252\n",
      "₹398\n",
      "₹579\n",
      "₹397\n",
      "₹280\n",
      "₹282\n",
      "₹519\n",
      "₹149\n",
      "₹214\n",
      "₹199\n",
      "₹149\n",
      "₹149\n",
      "₹519\n",
      "₹149\n",
      "₹108\n",
      "₹999\n",
      "₹497\n",
      "₹179\n",
      "₹129\n",
      "₹129\n",
      "₹649\n",
      "₹179\n",
      "₹299\n",
      "₹342\n",
      "₹699\n",
      "₹391\n",
      "₹579\n",
      "₹196\n",
      "₹283\n",
      "₹423\n",
      "₹125\n",
      "₹679\n",
      "₹270\n",
      "₹179\n",
      "₹398\n",
      "₹519\n",
      "₹210\n",
      "₹199\n",
      "₹949\n",
      "₹649\n",
      "₹252\n",
      "₹398\n"
     ]
    }
   ],
   "source": [
    "price=driver.find_elements(By.CLASS_NAME,\"_30jeq3\")\n",
    "for i in price[:40]:\n",
    "    prices.append(i.text)\n",
    "for i in prices:\n",
    "    print(i)"
   ]
  },
  {
   "cell_type": "code",
   "execution_count": 97,
   "id": "cb6ed1d1",
   "metadata": {},
   "outputs": [
    {
     "name": "stdout",
     "output_type": "stream",
     "text": [
      "80 80 80\n"
     ]
    }
   ],
   "source": [
    "print(len(prices),len(description),len(brand_name))"
   ]
  },
  {
   "cell_type": "code",
   "execution_count": 98,
   "id": "43a549bc",
   "metadata": {},
   "outputs": [],
   "source": [
    "sleep(5)\n",
    "next_btn=driver.find_element(By.XPATH,\"/html/body/div[1]/div/div[3]/div[1]/div[2]/div[12]/div/div/nav/a[12]\")\n",
    "next_btn.click()"
   ]
  },
  {
   "cell_type": "code",
   "execution_count": 99,
   "id": "1351556f",
   "metadata": {},
   "outputs": [
    {
     "name": "stdout",
     "output_type": "stream",
     "text": [
      "PC STAR\n",
      "SRPM\n",
      "Fastrack\n",
      "Elligator\n",
      "Elligator\n",
      "Fastrack\n",
      "Elligator\n",
      "Elligator\n",
      "PHENOMENAL\n",
      "LIZA ANGEL\n",
      "SHAAH COLLECTIONS\n",
      "ROZZETTA CRAFT\n",
      "VINCENT CHASE\n",
      "Elligator\n",
      "SRPM\n",
      "Elligator\n",
      "PIRASO\n",
      "PIRASO\n",
      "SRPM\n",
      "ROZZETTA CRAFT\n",
      "New Specs\n",
      "Fastrack\n",
      "Fastrack\n",
      "SRPM\n",
      "ROZZETTA CRAFT\n",
      "LIZA ANGEL\n",
      "SUNBEE\n",
      "ROZZETTA CRAFT\n",
      "PIRASO\n",
      "SRPM\n",
      "EYELLUSION\n",
      "Silver Kartz\n",
      "PIRASO\n",
      "LIZA ANGEL\n",
      "PIRASO\n",
      "ARICKS\n",
      "VINCENT CHASE\n",
      "ROZZETTA CRAFT\n",
      "Fastrack\n",
      "Eyewearlabs\n",
      "Fastrack\n",
      "PIRASO\n",
      "Sewell\n",
      "PC STAR\n",
      "Fastrack\n",
      "Elligator\n",
      "PIRASO\n",
      "SRPM\n",
      "Elligator\n",
      "Elligator\n",
      "Fastrack\n",
      "Elligator\n",
      "NuVew\n",
      "VINCENT CHASE\n",
      "ROYAL SON\n",
      "Elligator\n",
      "New Specs\n",
      "SUNBEE\n",
      "ROZZETTA CRAFT\n",
      "SRPM\n",
      "Satyam Kraft\n",
      "PIRASO\n",
      "VINCENT CHASE\n",
      "ROZZETTA CRAFT\n",
      "Fastrack\n",
      "kingsunglasses\n",
      "SUNBEE\n",
      "ROZZETTA CRAFT\n",
      "NuVew\n",
      "VINCENT CHASE\n",
      "PIRASO\n",
      "Elligator\n",
      "ROYAL SON\n",
      "Fastrack\n",
      "LIZA ANGEL\n",
      "SRPM\n",
      "VINCENT CHASE\n",
      "Fastrack\n",
      "kingsunglasses\n",
      "ROZZETTA CRAFT\n",
      "NuVew\n",
      "Fastrack\n",
      "LIZA ANGEL\n",
      "PC STAR\n",
      "NuVew\n",
      "Fastrack\n",
      "VINCENT CHASE\n",
      "SRPM\n",
      "GANSTA\n",
      "EYELLUSION\n",
      "Fastrack\n",
      "Elligator\n",
      "Fastrack\n",
      "SUNBEE\n",
      "kingsunglasses\n",
      "Resist\n",
      "Fastrack\n",
      "MGKNYAH\n",
      "kingsunglasses\n",
      "SRPM\n"
     ]
    }
   ],
   "source": [
    "brands=driver.find_elements(By.CLASS_NAME,\"_2WkVRV\")\n",
    "for i in brands[:20]:\n",
    "    brand_name.append(i.text)\n",
    "for i in brand_name:\n",
    "    print(i)"
   ]
  },
  {
   "cell_type": "code",
   "execution_count": 100,
   "id": "fbc50fec",
   "metadata": {},
   "outputs": [
    {
     "name": "stdout",
     "output_type": "stream",
     "text": [
      "Riding Glasses, UV Protection Retro Square Sunglasses (...\n",
      "UV Protection Wayfarer Sunglasses (53)\n",
      "UV Protection Wayfarer Sunglasses (Free Size)\n",
      "UV Protection Cat-eye, Retro Square, Oval, Round Sungla...\n",
      "UV Protection Cat-eye, Retro Square, Oval, Round Sungla...\n",
      "UV Protection Rectangular Sunglasses (Free Size)\n",
      "UV Protection Round Sunglasses (54)\n",
      "UV Protection Wayfarer Sunglasses (53)\n",
      "UV Protection Retro Square Sunglasses (53)\n",
      "Riding Glasses, Night Vision Spectacle Sunglasses (Fre...\n",
      "UV Protection, Polarized, Mirrored Rectangular Sunglass...\n",
      "UV Protection, Gradient Round Sunglasses (Free Size)\n",
      "UV Protection Wayfarer Sunglasses (59)\n",
      "UV Protection Round Sunglasses (53)\n",
      "UV Protection Wayfarer Sunglasses (50)\n",
      "UV Protection, Mirrored Wayfarer Sunglasses (54)\n",
      "UV Protection Aviator Sunglasses (58)\n",
      "UV Protection Rectangular Sunglasses (52)\n",
      "Night Vision, UV Protection Round Sunglasses (54)\n",
      "UV Protection, Gradient Rectangular Sunglasses (Free Si...\n",
      "UV Protection Rectangular Sunglasses (Free Size)\n",
      "Gradient, UV Protection Wayfarer Sunglasses (Free Size)\n",
      "UV Protection Aviator Sunglasses (Free Size)\n",
      "Others Wayfarer, Retro Square, Rectangular Sunglasses (...\n",
      "UV Protection Aviator Sunglasses (55)\n",
      "UV Protection, Polarized Rectangular Sunglasses (Free S...\n",
      "UV Protection Rectangular Sunglasses (Free Size)\n",
      "UV Protection Spectacle Sunglasses (Free Size)\n",
      "UV Protection Aviator Sunglasses (54)\n",
      "Others Wayfarer, Retro Square Sunglasses (50)\n",
      "Night Vision, Polarized, UV Protection, Riding Glasses ...\n",
      "UV Protection Aviator Sunglasses (88)\n",
      "UV Protection Clubmaster Sunglasses (54)\n",
      "Riding Glasses, UV Protection, Night Vision Spectacle ...\n",
      "UV Protection Aviator Sunglasses (Free Size)\n",
      "UV Protection, Polarized Rectangular Sunglasses (Free S...\n",
      "by Lenskart Polarized, UV Protection Aviator Sunglasses...\n",
      "Polarized, Riding Glasses Sports, Wrap-around Sunglasse...\n",
      "UV Protection Wayfarer Sunglasses (Free Size)\n",
      "Polarized, UV Protection Aviator Sunglasses (60)\n",
      "UV Protection Wayfarer Sunglasses (Free Size)\n",
      "Polarized Wrap-around Sunglasses (45)\n",
      "Mirrored, Night Vision, UV Protection, Riding Glasses S...\n",
      "Riding Glasses, UV Protection Retro Square Sunglasses (...\n",
      "UV Protection Wayfarer Sunglasses (Free Size)\n",
      "Others Cat-eye, Retro Square, Wayfarer Sunglasses (54)\n",
      "UV Protection Wayfarer Sunglasses (32)\n",
      "UV Protection Wayfarer Sunglasses (53)\n",
      "UV Protection Aviator, Wayfarer Sunglasses (54)\n",
      "UV Protection Round Sunglasses (53)\n",
      "Gradient, UV Protection Wayfarer Sunglasses (Free Size)\n",
      "UV Protection Round Sunglasses (53)\n",
      "UV Protection, Mirrored Wayfarer Sunglasses (58)\n",
      "Polarized, UV Protection Round Sunglasses (51)\n",
      "UV Protection Rectangular, Retro Square Sunglasses (58)\n",
      "UV Protection Wayfarer Sunglasses (53)\n",
      "UV Protection Retro Square Sunglasses (Free Size)\n",
      "UV Protection Rectangular Sunglasses (Free Size)\n",
      "UV Protection Aviator Sunglasses (62)\n",
      "Riding Glasses, Mirrored Wayfarer Sunglasses (54)\n",
      "Others Spectacle Sunglasses (Free Size)\n",
      "UV Protection Over-sized Sunglasses (65)\n",
      "by Lenskart Polarized, UV Protection Aviator Sunglasses...\n",
      "UV Protection, Gradient Round Sunglasses (Free Size)\n",
      "UV Protection Shield Sunglasses (Free Size)\n",
      "UV Protection Rectangular Sunglasses (Free Size)\n",
      "UV Protection, Polarized Wayfarer Sunglasses (Free Size...\n",
      "UV Protection, Gradient Rectangular Sunglasses (Free Si...\n",
      "UV Protection, Mirrored Aviator Sunglasses (57)\n",
      "by Lenskart Polarized, UV Protection Rectangular Sungla...\n",
      "UV Protection Over-sized Sunglasses (60)\n",
      "UV Protection, Mirrored Wayfarer Sunglasses (54)\n",
      "Mirrored Aviator Sunglasses (55)\n",
      "UV Protection Aviator Sunglasses (57)\n",
      "UV Protection, Night Vision, Riding Glasses Wayfarer Su...\n",
      "Others Wayfarer, Retro Square, Rectangular Sunglasses (...\n",
      "Polarized, UV Protection Round Sunglasses (50)\n",
      "UV Protection Wayfarer Sunglasses (Free Size)\n",
      "UV Protection Rectangular Sunglasses (55)\n",
      "UV Protection Spectacle Sunglasses (Free Size)\n",
      "UV Protection, Mirrored Aviator Sunglasses (57)\n",
      "UV Protection Wayfarer Sunglasses (Free Size)\n",
      "UV Protection, Night Vision, Riding Glasses Wayfarer Su...\n",
      "Riding Glasses, UV Protection Retro Square Sunglasses (...\n",
      "UV Protection, Mirrored Aviator Sunglasses (58)\n",
      "UV Protection Aviator Sunglasses (57)\n",
      "Polarized, UV Protection Round Sunglasses (50)\n",
      "UV Protection Wayfarer Sunglasses (53)\n",
      "Gradient, UV Protection Aviator Sunglasses (57)\n",
      "UV Protection, Riding Glasses, Gradient Aviator Sunglas...\n",
      "Polarized Retro Square Sunglasses (Free Size)\n",
      "UV Protection Wayfarer Sunglasses (53)\n",
      "UV Protection Wayfarer Sunglasses (Free Size)\n",
      "UV Protection Aviator Sunglasses (Free Size)\n",
      "UV Protection Rectangular Sunglasses (55)\n",
      "Polarized Wayfarer Sunglasses (Free Size)\n",
      "UV Protection Round Sunglasses (52)\n",
      "UV Protection Aviator Sunglasses (Free Size)\n",
      "UV Protection, Mirrored Round Sunglasses (Free Size)\n",
      "Riding Glasses, Mirrored Wayfarer Sunglasses (54)\n"
     ]
    }
   ],
   "source": [
    "descript=driver.find_elements(By.CLASS_NAME,\"IRpwTa\")\n",
    "for i in descript[:20]:\n",
    "    description.append(i.text)\n",
    "for i in description:\n",
    "    print(i)"
   ]
  },
  {
   "cell_type": "code",
   "execution_count": 101,
   "id": "38b83946",
   "metadata": {},
   "outputs": [
    {
     "name": "stdout",
     "output_type": "stream",
     "text": [
      "₹579\n",
      "₹397\n",
      "₹280\n",
      "₹282\n",
      "₹519\n",
      "₹149\n",
      "₹214\n",
      "₹199\n",
      "₹149\n",
      "₹149\n",
      "₹519\n",
      "₹149\n",
      "₹108\n",
      "₹999\n",
      "₹497\n",
      "₹179\n",
      "₹129\n",
      "₹129\n",
      "₹649\n",
      "₹179\n",
      "₹299\n",
      "₹342\n",
      "₹699\n",
      "₹391\n",
      "₹579\n",
      "₹196\n",
      "₹283\n",
      "₹423\n",
      "₹125\n",
      "₹679\n",
      "₹270\n",
      "₹179\n",
      "₹398\n",
      "₹519\n",
      "₹210\n",
      "₹199\n",
      "₹949\n",
      "₹649\n",
      "₹252\n",
      "₹398\n",
      "₹579\n",
      "₹397\n",
      "₹280\n",
      "₹282\n",
      "₹519\n",
      "₹149\n",
      "₹214\n",
      "₹199\n",
      "₹149\n",
      "₹149\n",
      "₹519\n",
      "₹149\n",
      "₹108\n",
      "₹999\n",
      "₹497\n",
      "₹179\n",
      "₹129\n",
      "₹129\n",
      "₹649\n",
      "₹179\n",
      "₹299\n",
      "₹342\n",
      "₹699\n",
      "₹391\n",
      "₹579\n",
      "₹196\n",
      "₹283\n",
      "₹423\n",
      "₹125\n",
      "₹679\n",
      "₹270\n",
      "₹179\n",
      "₹398\n",
      "₹519\n",
      "₹210\n",
      "₹199\n",
      "₹949\n",
      "₹649\n",
      "₹252\n",
      "₹398\n",
      "₹125\n",
      "₹649\n",
      "₹210\n",
      "₹282\n",
      "₹112\n",
      "₹519\n",
      "₹949\n",
      "₹199\n",
      "₹299\n",
      "₹159\n",
      "₹519\n",
      "₹179\n",
      "₹519\n",
      "₹129\n",
      "₹252\n",
      "₹1,399\n",
      "₹519\n",
      "₹179\n",
      "₹260\n",
      "₹179\n"
     ]
    }
   ],
   "source": [
    "price=driver.find_elements(By.CLASS_NAME,\"_30jeq3\")\n",
    "for i in price[:20]:\n",
    "    prices.append(i.text)\n",
    "for i in prices:\n",
    "    print(i)"
   ]
  },
  {
   "cell_type": "code",
   "execution_count": 104,
   "id": "c93e7093",
   "metadata": {},
   "outputs": [
    {
     "name": "stdout",
     "output_type": "stream",
     "text": [
      "100 100 100\n"
     ]
    }
   ],
   "source": [
    "print(len(brand_name),len(description),len(prices))"
   ]
  },
  {
   "cell_type": "code",
   "execution_count": 105,
   "id": "56eef90a",
   "metadata": {},
   "outputs": [
    {
     "data": {
      "text/html": [
       "<div>\n",
       "<style scoped>\n",
       "    .dataframe tbody tr th:only-of-type {\n",
       "        vertical-align: middle;\n",
       "    }\n",
       "\n",
       "    .dataframe tbody tr th {\n",
       "        vertical-align: top;\n",
       "    }\n",
       "\n",
       "    .dataframe thead th {\n",
       "        text-align: right;\n",
       "    }\n",
       "</style>\n",
       "<table border=\"1\" class=\"dataframe\">\n",
       "  <thead>\n",
       "    <tr style=\"text-align: right;\">\n",
       "      <th></th>\n",
       "      <th>Brand</th>\n",
       "      <th>Description</th>\n",
       "      <th>Price</th>\n",
       "    </tr>\n",
       "  </thead>\n",
       "  <tbody>\n",
       "    <tr>\n",
       "      <th>0</th>\n",
       "      <td>PC STAR</td>\n",
       "      <td>Riding Glasses, UV Protection Retro Square Sun...</td>\n",
       "      <td>₹579</td>\n",
       "    </tr>\n",
       "    <tr>\n",
       "      <th>1</th>\n",
       "      <td>SRPM</td>\n",
       "      <td>UV Protection Wayfarer Sunglasses (53)</td>\n",
       "      <td>₹397</td>\n",
       "    </tr>\n",
       "    <tr>\n",
       "      <th>2</th>\n",
       "      <td>Fastrack</td>\n",
       "      <td>UV Protection Wayfarer Sunglasses (Free Size)</td>\n",
       "      <td>₹280</td>\n",
       "    </tr>\n",
       "    <tr>\n",
       "      <th>3</th>\n",
       "      <td>Elligator</td>\n",
       "      <td>UV Protection Cat-eye, Retro Square, Oval, Rou...</td>\n",
       "      <td>₹282</td>\n",
       "    </tr>\n",
       "    <tr>\n",
       "      <th>4</th>\n",
       "      <td>Elligator</td>\n",
       "      <td>UV Protection Cat-eye, Retro Square, Oval, Rou...</td>\n",
       "      <td>₹519</td>\n",
       "    </tr>\n",
       "    <tr>\n",
       "      <th>...</th>\n",
       "      <td>...</td>\n",
       "      <td>...</td>\n",
       "      <td>...</td>\n",
       "    </tr>\n",
       "    <tr>\n",
       "      <th>95</th>\n",
       "      <td>Resist</td>\n",
       "      <td>Polarized Wayfarer Sunglasses (Free Size)</td>\n",
       "      <td>₹1,399</td>\n",
       "    </tr>\n",
       "    <tr>\n",
       "      <th>96</th>\n",
       "      <td>Fastrack</td>\n",
       "      <td>UV Protection Round Sunglasses (52)</td>\n",
       "      <td>₹519</td>\n",
       "    </tr>\n",
       "    <tr>\n",
       "      <th>97</th>\n",
       "      <td>MGKNYAH</td>\n",
       "      <td>UV Protection Aviator Sunglasses (Free Size)</td>\n",
       "      <td>₹179</td>\n",
       "    </tr>\n",
       "    <tr>\n",
       "      <th>98</th>\n",
       "      <td>kingsunglasses</td>\n",
       "      <td>UV Protection, Mirrored Round Sunglasses (Free...</td>\n",
       "      <td>₹260</td>\n",
       "    </tr>\n",
       "    <tr>\n",
       "      <th>99</th>\n",
       "      <td>SRPM</td>\n",
       "      <td>Riding Glasses, Mirrored Wayfarer Sunglasses (54)</td>\n",
       "      <td>₹179</td>\n",
       "    </tr>\n",
       "  </tbody>\n",
       "</table>\n",
       "<p>100 rows × 3 columns</p>\n",
       "</div>"
      ],
      "text/plain": [
       "             Brand                                        Description   Price\n",
       "0          PC STAR  Riding Glasses, UV Protection Retro Square Sun...    ₹579\n",
       "1             SRPM             UV Protection Wayfarer Sunglasses (53)    ₹397\n",
       "2         Fastrack      UV Protection Wayfarer Sunglasses (Free Size)    ₹280\n",
       "3        Elligator  UV Protection Cat-eye, Retro Square, Oval, Rou...    ₹282\n",
       "4        Elligator  UV Protection Cat-eye, Retro Square, Oval, Rou...    ₹519\n",
       "..             ...                                                ...     ...\n",
       "95          Resist          Polarized Wayfarer Sunglasses (Free Size)  ₹1,399\n",
       "96        Fastrack                UV Protection Round Sunglasses (52)    ₹519\n",
       "97         MGKNYAH       UV Protection Aviator Sunglasses (Free Size)    ₹179\n",
       "98  kingsunglasses  UV Protection, Mirrored Round Sunglasses (Free...    ₹260\n",
       "99            SRPM  Riding Glasses, Mirrored Wayfarer Sunglasses (54)    ₹179\n",
       "\n",
       "[100 rows x 3 columns]"
      ]
     },
     "execution_count": 105,
     "metadata": {},
     "output_type": "execute_result"
    }
   ],
   "source": [
    "import pandas as pd\n",
    "df=pd.DataFrame({'Brand':brand_name,'Description':description,'Price':prices})\n",
    "df"
   ]
  },
  {
   "cell_type": "code",
   "execution_count": null,
   "id": "b80a33ad",
   "metadata": {},
   "outputs": [],
   "source": []
  },
  {
   "cell_type": "code",
   "execution_count": null,
   "id": "a48f4b4b",
   "metadata": {},
   "outputs": [],
   "source": []
  },
  {
   "cell_type": "code",
   "execution_count": 313,
   "id": "7d5b9ab2",
   "metadata": {},
   "outputs": [],
   "source": [
    "import selenium\n",
    "import pandas as pd\n",
    "from selenium import webdriver\n",
    "import warnings\n",
    "warnings.filterwarnings('ignore')\n",
    "from selenium.common.exceptions import StaleElementReferenceException,NoSuchElementException\n",
    "from selenium.webdriver.common.by import By\n",
    "import time"
   ]
  },
  {
   "cell_type": "code",
   "execution_count": 314,
   "id": "5847a3e2",
   "metadata": {},
   "outputs": [],
   "source": [
    "driver=webdriver.Chrome(r\"chromedriver.exe\")"
   ]
  },
  {
   "cell_type": "code",
   "execution_count": 315,
   "id": "89aad03e",
   "metadata": {},
   "outputs": [],
   "source": [
    "driver.get(\"https://www.flipkart.com/apple-iphone-11-black-64-gb-includes-earpods-power-adapter/product-reviews/itm0f37c2240b217?pid=MOBFKCTSVZAXUHGR&lid=LSTMOBFKCTSVZAXUHGREPBFGI&marketplace=FLIPKART\")"
   ]
  },
  {
   "cell_type": "code",
   "execution_count": 316,
   "id": "5de03fe7",
   "metadata": {},
   "outputs": [],
   "source": [
    "rating=[]\n",
    "review_summary=[]\n",
    "full_review=[]"
   ]
  },
  {
   "cell_type": "code",
   "execution_count": null,
   "id": "1432d0b9",
   "metadata": {},
   "outputs": [],
   "source": []
  },
  {
   "cell_type": "code",
   "execution_count": null,
   "id": "6d4a2762",
   "metadata": {},
   "outputs": [],
   "source": []
  },
  {
   "cell_type": "code",
   "execution_count": null,
   "id": "ef8e3c31",
   "metadata": {},
   "outputs": [],
   "source": []
  }
 ],
 "metadata": {
  "kernelspec": {
   "display_name": "Python 3 (ipykernel)",
   "language": "python",
   "name": "python3"
  },
  "language_info": {
   "codemirror_mode": {
    "name": "ipython",
    "version": 3
   },
   "file_extension": ".py",
   "mimetype": "text/x-python",
   "name": "python",
   "nbconvert_exporter": "python",
   "pygments_lexer": "ipython3",
   "version": "3.9.7"
  }
 },
 "nbformat": 4,
 "nbformat_minor": 5
}
